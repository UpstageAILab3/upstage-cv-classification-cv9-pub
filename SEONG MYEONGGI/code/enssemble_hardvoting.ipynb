{
 "cells": [
  {
   "cell_type": "code",
   "execution_count": null,
   "metadata": {},
   "outputs": [],
   "source": [
    "import os\n",
    "import random\n",
    "import time\n",
    "\n",
    "import timm\n",
    "import torch\n",
    "import matplotlib.pyplot as plt\n",
    "import seaborn as sns\n",
    "import albumentations as A\n",
    "import pandas as pd\n",
    "from collections import Counter\n",
    "import numpy as np\n",
    "import torch.nn as nn\n",
    "from sklearn.model_selection import KFold\n",
    "from albumentations.pytorch import ToTensorV2\n",
    "from torchvision import transforms\n",
    "from torch.optim import AdamW, RMSprop, SGD, Adam, Adamax, Adadelta, Adagrad\n",
    "from torch.utils.data import Dataset, DataLoader\n",
    "from sklearn.model_selection import StratifiedKFold\n",
    "from PIL import Image\n",
    "from tqdm import tqdm\n",
    "import torch.nn.functional as F\n",
    "from sklearn.metrics import accuracy_score, f1_score\n",
    "from torch.optim.lr_scheduler import CosineAnnealingWarmRestarts, StepLR"
   ]
  },
  {
   "cell_type": "code",
   "execution_count": null,
   "metadata": {},
   "outputs": [],
   "source": [
    "# 앙상블할 csv 파일들\n",
    "enssemble_file1 = pd.read_csv('/home/data/pred/kfold_pred/vit_base_patch16_epoch5_pth1.csv')\n",
    "enssemble_file2 = pd.read_csv('/home/data/pred/kfold_pred/vit_base_patch16_epoch5_pth2.csv')\n",
    "enssemble_file3 = pd.read_csv('/home/data/pred/kfold_pred/vit_base_patch16_epoch5_pth3.csv')\n",
    "\n",
    "# 앙상블할 csv 파일들의 target값\n",
    "enssemble_file1_target = enssemble_file1[\"target\"]\n",
    "enssemble_file2_target = enssemble_file2[\"target\"]\n",
    "enssemble_file3_target = enssemble_file3[\"target\"]\n",
    "\n",
    "enssemble_target = []\n",
    "\n",
    "for i in range(len(enssemble_file1_target)):\n",
    "    votes = [\n",
    "        enssemble_file1_target[i],\n",
    "        enssemble_file2_target[i],\n",
    "        enssemble_file3_target[i]\n",
    "    ]\n",
    "    \n",
    "    most_common = Counter(votes).most_common(1)\n",
    "    enssemble_target.append(most_common[0][0])\n",
    "    print(f'{i}번째 target: {most_common}, {enssemble_target[i]}')"
   ]
  },
  {
   "cell_type": "code",
   "execution_count": null,
   "metadata": {},
   "outputs": [],
   "source": [
    "# 결과 저장\n",
    "result_df = pd.DataFrame({\n",
    "    'ID': enssemble_file1['ID'],\n",
    "    'target': enssemble_target\n",
    "})\n",
    "result_df.to_csv(\"/home/data/pred/enssemble_pred/mybest_hardvoting_vit_base_epoch5.csv\", index=False)"
   ]
  },
  {
   "cell_type": "code",
   "execution_count": null,
   "metadata": {},
   "outputs": [],
   "source": [
    "answer_df = pd.read_csv(\"/home/data/answer.csv\")\n",
    "assert (answer_df['ID'] == result_df['ID']).all()\n",
    "\n",
    "f1 = f1_score(answer_df['target'], result_df['target'], average='macro')\n",
    "print(f\"Macro F1 Score: {f1:.4f}\")"
   ]
  }
 ],
 "metadata": {
  "kernelspec": {
   "display_name": "base",
   "language": "python",
   "name": "python3"
  },
  "language_info": {
   "codemirror_mode": {
    "name": "ipython",
    "version": 3
   },
   "file_extension": ".py",
   "mimetype": "text/x-python",
   "name": "python",
   "nbconvert_exporter": "python",
   "pygments_lexer": "ipython3",
   "version": "3.10.13"
  }
 },
 "nbformat": 4,
 "nbformat_minor": 2
}
