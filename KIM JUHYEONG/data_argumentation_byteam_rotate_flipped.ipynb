{
 "cells": [
  {
   "cell_type": "code",
   "execution_count": 1,
   "metadata": {
    "id": "gl7-T53U_Fgm"
   },
   "outputs": [],
   "source": [
    "import os\n",
    "import numpy as np\n",
    "import librosa\n",
    "import matplotlib.pyplot as plt\n",
    "import torch ## 저같은 경우엔 pytorch를 사용하여 학습하고 있어서 torch tensor로 저장하고자합니다\n",
    "from tqdm import tqdm\n",
    "import IPython.display"
   ]
  },
  {
   "cell_type": "code",
   "execution_count": 2,
   "metadata": {
    "id": "qkI8bN_F_Fgm"
   },
   "outputs": [],
   "source": [
    "import numpy as np\n",
    "from PIL import Image\n",
    "import cv2\n",
    "import os\n",
    "\n",
    "def augment_image(image_path, output_dir):\n",
    "    original_image = Image.open(image_path)\n",
    "    base_name = os.path.splitext(os.path.basename(image_path))[0]\n",
    "\n",
    "    for angle in [0, 45, 90, 135, 180, 225, 270, 315]:\n",
    "        rotated_image = original_image.rotate(angle, expand=True, fillcolor='white')\n",
    "\n",
    "        # Convert PIL Image to OpenCV format\n",
    "        cv_image = cv2.cvtColor(np.array(rotated_image), cv2.COLOR_RGB2BGR)\n",
    "\n",
    "        # Flip\n",
    "        flipped_image = cv2.flip(cv_image, 1)  # 1 for horizontal flip\n",
    "        cv2.imwrite(os.path.join(output_dir, f\"{base_name}_rotated_{angle}_flipped.jpg\"), flipped_image)\n",
    "\n",
    "        # Save the original rotated image\n",
    "        cv2.imwrite(os.path.join(output_dir, f\"{base_name}_rotated_{angle}.jpg\"), cv_image)\n",
    "\n",
    "def augment_all_images(input_dir, output_dir):\n",
    "    if not os.path.exists(output_dir):\n",
    "        os.makedirs(output_dir)\n",
    "\n",
    "    for filename in os.listdir(input_dir):\n",
    "        if filename.lower().endswith(('.png', '.jpg', '.jpeg')):\n",
    "            input_path = os.path.join(input_dir, filename)\n",
    "            augment_image(input_path, output_dir)\n",
    "\n",
    "# 사용 예시\n",
    "augment_all_images('cv_challenge/label_change/train', 'cv_challenge/data_argumentation_byteam_rotate_flipped')"
   ]
  },
  {
   "cell_type": "code",
   "execution_count": 3,
   "metadata": {},
   "outputs": [
    {
     "data": {
      "text/plain": [
       "'C:\\\\Users\\\\master'"
      ]
     },
     "execution_count": 3,
     "metadata": {},
     "output_type": "execute_result"
    }
   ],
   "source": [
    "%pwd"
   ]
  },
  {
   "cell_type": "code",
   "execution_count": 4,
   "metadata": {
    "id": "5wTISXZd_Fgn",
    "outputId": "823baa95-5cae-4379-ffd1-2b24ca4d567e"
   },
   "outputs": [
    {
     "name": "stdout",
     "output_type": "stream",
     "text": [
      "Updated CSV file with only augmented data has been saved to cv_challenge/train_augmented_byteam_rf_and_original.csv\n"
     ]
    }
   ],
   "source": [
    "import csv\n",
    "import os\n",
    "\n",
    "def update_csv(original_csv_path, augmented_image_dir, output_csv_path):\n",
    "    # 원본 CSV 파일 읽기\n",
    "    with open(original_csv_path, 'r') as f:\n",
    "        reader = csv.DictReader(f)\n",
    "        original_data = list(reader)\n",
    "\n",
    "    # 새로운 데이터를 저장할 리스트\n",
    "    new_data = []\n",
    "\n",
    "    # 증강된 이미지에 대한 데이터 추가\n",
    "    for row in original_data:\n",
    "        original_filename = row['ID']\n",
    "        target = row['target']\n",
    "\n",
    "        # 파일 이름에서 확장자 제거\n",
    "        base_name = os.path.splitext(original_filename)[0]\n",
    "\n",
    "        for angle in [0, 45, 90, 135, 180, 225, 270, 315]:\n",
    "            # 회전된 이미지\n",
    "            rotated_filename = f\"{base_name}_rotated_{angle}.jpg\"\n",
    "            if os.path.exists(os.path.join(augmented_image_dir, rotated_filename)):\n",
    "                new_data.append({\n",
    "                    'ID': rotated_filename,\n",
    "                    'target': target\n",
    "                })\n",
    "\n",
    "            # Flipped 이미지\n",
    "            flipped_filename = f\"{base_name}_rotated_{angle}_flipped.jpg\"\n",
    "            if os.path.exists(os.path.join(augmented_image_dir, flipped_filename)):\n",
    "                new_data.append({\n",
    "                    'ID': flipped_filename,\n",
    "                    'target': target\n",
    "                })\n",
    "            \n",
    "        # 원본이미지\n",
    "        base_filename = f\"{base_name}.jpg\"\n",
    "        if os.path.exists(os.path.join(augmented_image_dir, base_filename)):\n",
    "            new_data.append({\n",
    "                'ID': base_filename,\n",
    "                'target': target\n",
    "            })\n",
    "\n",
    "    # 새로운 CSV 파일 작성\n",
    "    with open(output_csv_path, 'w', newline='') as f:\n",
    "        fieldnames = ['ID', 'target']\n",
    "        writer = csv.DictWriter(f, fieldnames=fieldnames)\n",
    "\n",
    "        writer.writeheader()\n",
    "        for row in new_data:\n",
    "            writer.writerow(row)\n",
    "\n",
    "    print(f\"Updated CSV file with only augmented data has been saved to {output_csv_path}\")\n",
    "\n",
    "# 사용 예시\n",
    "update_csv('cv_challenge/train.csv', 'cv_challenge/data_argumentation_byteam_rotate_flipped', 'cv_challenge/train_augmented_byteam_rf_and_original.csv')"
   ]
  },
  {
   "cell_type": "code",
   "execution_count": 5,
   "metadata": {
    "id": "I6nZHFK__Fgn"
   },
   "outputs": [],
   "source": [
    "# 두 폴더(/home/data/train, /home/data/augmented_train)의 이미지 파일 합쳐서 하나의 새로운 폴더(/home/data/rotate_train)로 이동\n",
    "import os\n",
    "import shutil\n",
    "\n",
    "def move_images(input_dir1, input_dir2, output_dir):\n",
    "    if not os.path.exists(output_dir):\n",
    "        os.makedirs(output_dir)\n",
    "\n",
    "    for filename in os.listdir(input_dir1):\n",
    "        if filename.lower().endswith(('.png', '.jpg', '.jpeg')):\n",
    "            input_path = os.path.join(input_dir1, filename)\n",
    "            output_path = os.path.join(output_dir, filename)\n",
    "            shutil.copy(input_path, output_path)\n",
    "\n",
    "    for filename in os.listdir(input_dir2):\n",
    "        if filename.lower().endswith(('.png', '.jpg', '.jpeg')):\n",
    "            input_path = os.path.join(input_dir2, filename)\n",
    "            output_path = os.path.join(output_dir, filename)\n",
    "            shutil.copy(input_path, output_path)\n",
    "\n",
    "move_images('cv_challenge/train', 'cv_challenge/data_argumentation_byteam_rotate_flipped', 'cv_challenge/augment_train_by_team_rf_and_original')"
   ]
  },
  {
   "cell_type": "code",
   "execution_count": 6,
   "metadata": {
    "id": "4IWkkqVB_Fgn",
    "outputId": "ce8e42b6-4857-4a72-b1c4-7aa33894c1ef"
   },
   "outputs": [
    {
     "name": "stdout",
     "output_type": "stream",
     "text": [
      "Total number of files in /cv_challenge/data_argumentation_byteam_rotate_flipped: 0\n"
     ]
    }
   ],
   "source": [
    "train_path = '/cv_challenge/data_argumentation_byteam_rotate_flipped'\n",
    "cnt = 0\n",
    "for root, dirs, files in os.walk(train_path):\n",
    "    cnt += len(files)\n",
    "\n",
    "print(f\"Total number of files in {train_path}: {cnt}\")"
   ]
  },
  {
   "cell_type": "code",
   "execution_count": 7,
   "metadata": {
    "id": "I_g1F8rQ_Fgn",
    "outputId": "9f01a483-b389-4cc3-8d6f-3e687aabb069"
   },
   "outputs": [
    {
     "data": {
      "text/html": [
       "<div>\n",
       "<style scoped>\n",
       "    .dataframe tbody tr th:only-of-type {\n",
       "        vertical-align: middle;\n",
       "    }\n",
       "\n",
       "    .dataframe tbody tr th {\n",
       "        vertical-align: top;\n",
       "    }\n",
       "\n",
       "    .dataframe thead th {\n",
       "        text-align: right;\n",
       "    }\n",
       "</style>\n",
       "<table border=\"1\" class=\"dataframe\">\n",
       "  <thead>\n",
       "    <tr style=\"text-align: right;\">\n",
       "      <th></th>\n",
       "      <th>ID</th>\n",
       "      <th>target</th>\n",
       "    </tr>\n",
       "  </thead>\n",
       "  <tbody>\n",
       "    <tr>\n",
       "      <th>0</th>\n",
       "      <td>002f99746285dfdd_rotated_0.jpg</td>\n",
       "      <td>16</td>\n",
       "    </tr>\n",
       "    <tr>\n",
       "      <th>1</th>\n",
       "      <td>002f99746285dfdd_rotated_0_flipped.jpg</td>\n",
       "      <td>16</td>\n",
       "    </tr>\n",
       "    <tr>\n",
       "      <th>2</th>\n",
       "      <td>002f99746285dfdd_rotated_45.jpg</td>\n",
       "      <td>16</td>\n",
       "    </tr>\n",
       "    <tr>\n",
       "      <th>3</th>\n",
       "      <td>002f99746285dfdd_rotated_45_flipped.jpg</td>\n",
       "      <td>16</td>\n",
       "    </tr>\n",
       "    <tr>\n",
       "      <th>4</th>\n",
       "      <td>002f99746285dfdd_rotated_90.jpg</td>\n",
       "      <td>16</td>\n",
       "    </tr>\n",
       "    <tr>\n",
       "      <th>5</th>\n",
       "      <td>002f99746285dfdd_rotated_90_flipped.jpg</td>\n",
       "      <td>16</td>\n",
       "    </tr>\n",
       "    <tr>\n",
       "      <th>6</th>\n",
       "      <td>002f99746285dfdd_rotated_135.jpg</td>\n",
       "      <td>16</td>\n",
       "    </tr>\n",
       "    <tr>\n",
       "      <th>7</th>\n",
       "      <td>002f99746285dfdd_rotated_135_flipped.jpg</td>\n",
       "      <td>16</td>\n",
       "    </tr>\n",
       "    <tr>\n",
       "      <th>8</th>\n",
       "      <td>002f99746285dfdd_rotated_180.jpg</td>\n",
       "      <td>16</td>\n",
       "    </tr>\n",
       "    <tr>\n",
       "      <th>9</th>\n",
       "      <td>002f99746285dfdd_rotated_180_flipped.jpg</td>\n",
       "      <td>16</td>\n",
       "    </tr>\n",
       "    <tr>\n",
       "      <th>10</th>\n",
       "      <td>002f99746285dfdd_rotated_225.jpg</td>\n",
       "      <td>16</td>\n",
       "    </tr>\n",
       "    <tr>\n",
       "      <th>11</th>\n",
       "      <td>002f99746285dfdd_rotated_225_flipped.jpg</td>\n",
       "      <td>16</td>\n",
       "    </tr>\n",
       "    <tr>\n",
       "      <th>12</th>\n",
       "      <td>002f99746285dfdd_rotated_270.jpg</td>\n",
       "      <td>16</td>\n",
       "    </tr>\n",
       "    <tr>\n",
       "      <th>13</th>\n",
       "      <td>002f99746285dfdd_rotated_270_flipped.jpg</td>\n",
       "      <td>16</td>\n",
       "    </tr>\n",
       "    <tr>\n",
       "      <th>14</th>\n",
       "      <td>002f99746285dfdd_rotated_315.jpg</td>\n",
       "      <td>16</td>\n",
       "    </tr>\n",
       "    <tr>\n",
       "      <th>15</th>\n",
       "      <td>002f99746285dfdd_rotated_315_flipped.jpg</td>\n",
       "      <td>16</td>\n",
       "    </tr>\n",
       "    <tr>\n",
       "      <th>16</th>\n",
       "      <td>008ccd231e1fea5d_rotated_0.jpg</td>\n",
       "      <td>10</td>\n",
       "    </tr>\n",
       "    <tr>\n",
       "      <th>17</th>\n",
       "      <td>008ccd231e1fea5d_rotated_0_flipped.jpg</td>\n",
       "      <td>10</td>\n",
       "    </tr>\n",
       "    <tr>\n",
       "      <th>18</th>\n",
       "      <td>008ccd231e1fea5d_rotated_45.jpg</td>\n",
       "      <td>10</td>\n",
       "    </tr>\n",
       "    <tr>\n",
       "      <th>19</th>\n",
       "      <td>008ccd231e1fea5d_rotated_45_flipped.jpg</td>\n",
       "      <td>10</td>\n",
       "    </tr>\n",
       "  </tbody>\n",
       "</table>\n",
       "</div>"
      ],
      "text/plain": [
       "                                          ID  target\n",
       "0             002f99746285dfdd_rotated_0.jpg      16\n",
       "1     002f99746285dfdd_rotated_0_flipped.jpg      16\n",
       "2            002f99746285dfdd_rotated_45.jpg      16\n",
       "3    002f99746285dfdd_rotated_45_flipped.jpg      16\n",
       "4            002f99746285dfdd_rotated_90.jpg      16\n",
       "5    002f99746285dfdd_rotated_90_flipped.jpg      16\n",
       "6           002f99746285dfdd_rotated_135.jpg      16\n",
       "7   002f99746285dfdd_rotated_135_flipped.jpg      16\n",
       "8           002f99746285dfdd_rotated_180.jpg      16\n",
       "9   002f99746285dfdd_rotated_180_flipped.jpg      16\n",
       "10          002f99746285dfdd_rotated_225.jpg      16\n",
       "11  002f99746285dfdd_rotated_225_flipped.jpg      16\n",
       "12          002f99746285dfdd_rotated_270.jpg      16\n",
       "13  002f99746285dfdd_rotated_270_flipped.jpg      16\n",
       "14          002f99746285dfdd_rotated_315.jpg      16\n",
       "15  002f99746285dfdd_rotated_315_flipped.jpg      16\n",
       "16            008ccd231e1fea5d_rotated_0.jpg      10\n",
       "17    008ccd231e1fea5d_rotated_0_flipped.jpg      10\n",
       "18           008ccd231e1fea5d_rotated_45.jpg      10\n",
       "19   008ccd231e1fea5d_rotated_45_flipped.jpg      10"
      ]
     },
     "execution_count": 7,
     "metadata": {},
     "output_type": "execute_result"
    }
   ],
   "source": [
    "import pandas as pd\n",
    "\n",
    "data = 'cv_challenge/train_augmented_byteam_rf_and_original.csv'\n",
    "data = pd.read_csv(data)\n",
    "data.head(20)"
   ]
  },
  {
   "cell_type": "code",
   "execution_count": null,
   "metadata": {
    "id": "nN37uGqw_Fgn"
   },
   "outputs": [],
   "source": []
  }
 ],
 "metadata": {
  "colab": {
   "provenance": []
  },
  "kernelspec": {
   "display_name": "Python 3 (ipykernel)",
   "language": "python",
   "name": "python3"
  },
  "language_info": {
   "codemirror_mode": {
    "name": "ipython",
    "version": 3
   },
   "file_extension": ".py",
   "mimetype": "text/x-python",
   "name": "python",
   "nbconvert_exporter": "python",
   "pygments_lexer": "ipython3",
   "version": "3.10.12"
  }
 },
 "nbformat": 4,
 "nbformat_minor": 1
}
