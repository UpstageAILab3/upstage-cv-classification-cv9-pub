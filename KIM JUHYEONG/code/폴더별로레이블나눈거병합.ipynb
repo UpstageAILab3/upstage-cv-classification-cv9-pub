{
 "cells": [
  {
   "cell_type": "code",
   "execution_count": 2,
   "id": "a94e0751",
   "metadata": {},
   "outputs": [
    {
     "name": "stdout",
     "output_type": "stream",
     "text": [
      "Train CSV file saved at: cv_challenge/label_change/train.csv\n"
     ]
    }
   ],
   "source": [
    "import os\n",
    "import pandas as pd\n",
    "import shutil\n",
    "\n",
    "# 경로 설정\n",
    "label_change_dir = 'cv_challenge/label_change'\n",
    "train_dir = 'cv_challenge/label_change/train'\n",
    "csv_file = 'cv_challenge/label_change/train.csv'\n",
    "\n",
    "# train 폴더 생성\n",
    "os.makedirs(train_dir, exist_ok=True)\n",
    "\n",
    "# CSV 파일 생성 준비\n",
    "data = {\n",
    "    'ID': [],\n",
    "    'target': []\n",
    "}\n",
    "\n",
    "# 각 레이블 폴더 순회\n",
    "for target in range(17):  # 0~16 폴더\n",
    "    target_folder = os.path.join(label_change_dir, str(target))\n",
    "    \n",
    "    if not os.path.isdir(target_folder):\n",
    "        continue\n",
    "    \n",
    "    # 이미지 파일 순회\n",
    "    for img_file in os.listdir(target_folder):\n",
    "        img_path = os.path.join(target_folder, img_file)\n",
    "        \n",
    "        if os.path.isfile(img_path):\n",
    "            # ID와 target 정보를 CSV 데이터에 추가\n",
    "            data['ID'].append(img_file)\n",
    "            data['target'].append(target)\n",
    "            \n",
    "            # 이미지 파일을 train 폴더로 복사\n",
    "            shutil.copy(img_path, os.path.join(train_dir, img_file))\n",
    "\n",
    "# CSV 파일로 저장\n",
    "df = pd.DataFrame(data)\n",
    "df.to_csv(csv_file, index=False)\n",
    "print(f'Train CSV file saved at: {csv_file}')"
   ]
  }
 ],
 "metadata": {
  "kernelspec": {
   "display_name": "Python 3 (ipykernel)",
   "language": "python",
   "name": "python3"
  },
  "language_info": {
   "codemirror_mode": {
    "name": "ipython",
    "version": 3
   },
   "file_extension": ".py",
   "mimetype": "text/x-python",
   "name": "python",
   "nbconvert_exporter": "python",
   "pygments_lexer": "ipython3",
   "version": "3.10.12"
  }
 },
 "nbformat": 4,
 "nbformat_minor": 5
}
