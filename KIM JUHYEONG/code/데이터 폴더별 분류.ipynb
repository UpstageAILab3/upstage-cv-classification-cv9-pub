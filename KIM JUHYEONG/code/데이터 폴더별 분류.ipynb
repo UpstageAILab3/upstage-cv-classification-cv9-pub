{
 "cells": [
  {
   "cell_type": "code",
   "execution_count": 1,
   "id": "37340a61",
   "metadata": {},
   "outputs": [],
   "source": [
    "import os\n",
    "import pandas as pd\n",
    "import shutil\n",
    "\n",
    "# 경로 설정\n",
    "data_dir = 'cv_challenge/train'\n",
    "csv_file = 'cv_challenge/train.csv'\n",
    "output_dir = 'cv_challenge/sorted_train'\n",
    "\n",
    "# CSV 파일 읽기\n",
    "df = pd.read_csv(csv_file)\n",
    "\n",
    "# 레이블 별 폴더 생성 및 이미지 복사\n",
    "for label in df['target'].unique():\n",
    "    label_dir = os.path.join(output_dir, str(label))\n",
    "    os.makedirs(label_dir, exist_ok=True)\n",
    "    \n",
    "    # 해당 레이블의 이미지 리스트 가져오기\n",
    "    label_df = df[df['target'] == label]\n",
    "    \n",
    "    # 각 이미지를 해당 레이블 폴더로 복사\n",
    "    for index, row in label_df.iterrows():\n",
    "        img_name = row['ID']\n",
    "        src_path = os.path.join(data_dir, img_name)\n",
    "        dst_path = os.path.join(label_dir, img_name)\n",
    "        if os.path.exists(src_path):\n",
    "            shutil.copy(src_path, dst_path)\n",
    "        else:\n",
    "            print(f\"File {src_path} does not exist.\")\n",
    "    \n",
    "    # 레이블 폴더 내에 CSV 파일 저장\n",
    "    label_df.to_csv(os.path.join(label_dir, f'{label}.csv'), index=False)"
   ]
  }
 ],
 "metadata": {
  "kernelspec": {
   "display_name": "Python 3 (ipykernel)",
   "language": "python",
   "name": "python3"
  },
  "language_info": {
   "codemirror_mode": {
    "name": "ipython",
    "version": 3
   },
   "file_extension": ".py",
   "mimetype": "text/x-python",
   "name": "python",
   "nbconvert_exporter": "python",
   "pygments_lexer": "ipython3",
   "version": "3.10.12"
  }
 },
 "nbformat": 4,
 "nbformat_minor": 5
}
